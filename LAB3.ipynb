{
 "cells": [
  {
   "cell_type": "code",
   "execution_count": 60,
   "id": "7cb75989",
   "metadata": {},
   "outputs": [],
   "source": [
    "import numpy as np\n",
    "import torch\n",
    "from torch import optim\n",
    "import matplotlib.pyplot as plt\n",
    "import matplotlib\n",
    "from torch.utils import data\n",
    "from torch.optim.lr_scheduler import ExponentialLR\n",
    "# We're going to use a library called celluloid to make animations that work on colab\n",
    "try: \n",
    "    from celluloid import Camera\n",
    "except:\n",
    "    !pip install celluloid\n",
    "\n",
    "from IPython.display import HTML\n",
    "import torch\n",
    "import torch.optim as optim\n",
    "from celluloid import Camera"
   ]
  },
  {
   "cell_type": "markdown",
   "id": "004f8536",
   "metadata": {},
   "source": [
    "# Exploring optimisation of analytic functions"
   ]
  },
  {
   "cell_type": "code",
   "execution_count": 61,
   "id": "5c7e7f09",
   "metadata": {},
   "outputs": [],
   "source": [
    "def rastrigin(x, A=0.5):\n",
    "    return A*len(x) + torch.sum(torch.square(x) - A*torch.cos(2*torch.pi*x))"
   ]
  },
  {
   "cell_type": "markdown",
   "id": "9697861e",
   "metadata": {},
   "source": [
    "## SGD"
   ]
  },
  {
   "cell_type": "code",
   "execution_count": 62,
   "id": "aee88f54",
   "metadata": {},
   "outputs": [],
   "source": [
    "x_sgd = torch.tensor([5.,4.], requires_grad=True)\n",
    "opt = optim.SGD([x_sgd], lr=0.01)\n",
    "\n",
    "sgd_losses = []\n",
    "for i in range(100):\n",
    "    opt.zero_grad()\n",
    "    sgd_output = rastrigin(x_sgd)\n",
    "    sgd_losses.append(sgd_output.item())\n",
    "    sgd_output.backward()\n",
    "    opt.step()"
   ]
  },
  {
   "cell_type": "markdown",
   "id": "1b0160c0",
   "metadata": {},
   "source": [
    "## SGD + Momentum"
   ]
  },
  {
   "cell_type": "code",
   "execution_count": 63,
   "id": "f673592c",
   "metadata": {},
   "outputs": [],
   "source": [
    "x_sgd_m = torch.tensor([5.,4.], requires_grad=True)\n",
    "opt = optim.SGD([x_sgd_m], lr=0.01, momentum=0.9)\n",
    "\n",
    "sgd_m_losses = []\n",
    "for i in range(100):\n",
    "    opt.zero_grad()\n",
    "    sgd_m_output = rastrigin(x_sgd_m)\n",
    "    sgd_m_losses.append(sgd_m_output.item())\n",
    "    sgd_m_output.backward()\n",
    "    opt.step()"
   ]
  },
  {
   "cell_type": "markdown",
   "id": "52d01b92",
   "metadata": {},
   "source": [
    "## Adagrad"
   ]
  },
  {
   "cell_type": "code",
   "execution_count": 64,
   "id": "980f9493",
   "metadata": {},
   "outputs": [],
   "source": [
    "x_ada = torch.tensor([5.,4.], requires_grad=True)\n",
    "opt = optim.Adagrad([x_ada], lr=0.01)\n",
    "\n",
    "ada_losses = []\n",
    "for i in range(100):\n",
    "    opt.zero_grad()\n",
    "    ada_output = rastrigin(x_ada)\n",
    "    ada_losses.append(ada_output.item())\n",
    "    ada_output.backward()\n",
    "    opt.step()"
   ]
  },
  {
   "cell_type": "markdown",
   "id": "41571a1b",
   "metadata": {},
   "source": [
    "## Adam"
   ]
  },
  {
   "cell_type": "code",
   "execution_count": 65,
   "id": "0d3b4c4a",
   "metadata": {},
   "outputs": [],
   "source": [
    "x_adam = torch.tensor([5.,4.], requires_grad=True)\n",
    "opt = optim.Adam([x_adam], lr=0.01)\n",
    "\n",
    "adam_losses = []\n",
    "for i in range(100):\n",
    "    opt.zero_grad()\n",
    "    adam_output = rastrigin(x_adam)\n",
    "    adam_losses.append(adam_output.item())\n",
    "    adam_output.backward()\n",
    "    opt.step()"
   ]
  },
  {
   "cell_type": "code",
   "execution_count": 66,
   "id": "a6a2d295",
   "metadata": {},
   "outputs": [
    {
     "name": "stderr",
     "output_type": "stream",
     "text": [
      "/var/folders/dn/mf4hn04x4p19pvpk6_8z0_vc0000gn/T/ipykernel_93831/631532462.py:5: FutureWarning: The frame.append method is deprecated and will be removed from pandas in a future version. Use pandas.concat instead.\n",
      "  df = df.append(pd.DataFrame({\"x1\": x_sgd_m[0].item(),\n",
      "/var/folders/dn/mf4hn04x4p19pvpk6_8z0_vc0000gn/T/ipykernel_93831/631532462.py:8: FutureWarning: The frame.append method is deprecated and will be removed from pandas in a future version. Use pandas.concat instead.\n",
      "  df = df.append(pd.DataFrame({\"x1\": x_ada[0].item(),\n",
      "/var/folders/dn/mf4hn04x4p19pvpk6_8z0_vc0000gn/T/ipykernel_93831/631532462.py:10: FutureWarning: The frame.append method is deprecated and will be removed from pandas in a future version. Use pandas.concat instead.\n",
      "  df = df.append(pd.DataFrame({\"x1\": x_adam[0].item(),\n"
     ]
    },
    {
     "data": {
      "text/html": [
       "<div>\n",
       "<style scoped>\n",
       "    .dataframe tbody tr th:only-of-type {\n",
       "        vertical-align: middle;\n",
       "    }\n",
       "\n",
       "    .dataframe tbody tr th {\n",
       "        vertical-align: top;\n",
       "    }\n",
       "\n",
       "    .dataframe thead th {\n",
       "        text-align: right;\n",
       "    }\n",
       "</style>\n",
       "<table border=\"1\" class=\"dataframe\">\n",
       "  <thead>\n",
       "    <tr style=\"text-align: right;\">\n",
       "      <th></th>\n",
       "      <th>x1</th>\n",
       "      <th>x2</th>\n",
       "    </tr>\n",
       "  </thead>\n",
       "  <tbody>\n",
       "    <tr>\n",
       "      <th>SGD</th>\n",
       "      <td>1.614345</td>\n",
       "      <td>1.296486</td>\n",
       "    </tr>\n",
       "    <tr>\n",
       "      <th>SGD+m</th>\n",
       "      <td>-0.006480</td>\n",
       "      <td>-0.903172</td>\n",
       "    </tr>\n",
       "    <tr>\n",
       "      <th>Adagrad</th>\n",
       "      <td>4.827328</td>\n",
       "      <td>3.831192</td>\n",
       "    </tr>\n",
       "    <tr>\n",
       "      <th>Adam</th>\n",
       "      <td>3.953301</td>\n",
       "      <td>2.949120</td>\n",
       "    </tr>\n",
       "  </tbody>\n",
       "</table>\n",
       "</div>"
      ],
      "text/plain": [
       "               x1        x2\n",
       "SGD      1.614345  1.296486\n",
       "SGD+m   -0.006480 -0.903172\n",
       "Adagrad  4.827328  3.831192\n",
       "Adam     3.953301  2.949120"
      ]
     },
     "execution_count": 66,
     "metadata": {},
     "output_type": "execute_result"
    }
   ],
   "source": [
    "import pandas as pd\n",
    "df = pd.DataFrame({\"x1\": x_sgd[0].item(), \n",
    "                   \"x2\": x_sgd[1].item()}, index=[\"SGD\"])\n",
    "\n",
    "df = df.append(pd.DataFrame({\"x1\": x_sgd_m[0].item(), \n",
    "                   \"x2\": x_sgd_m[1].item()}, index=[\"SGD+m\"]))\n",
    "\n",
    "df = df.append(pd.DataFrame({\"x1\": x_ada[0].item(), \n",
    "                   \"x2\": x_ada[1].item()}, index=[\"Adagrad\"]))\n",
    "df = df.append(pd.DataFrame({\"x1\": x_adam[0].item(), \n",
    "                   \"x2\": x_adam[1].item()}, index=[\"Adam\"]))\n",
    "\n",
    "\n",
    "\n",
    "df"
   ]
  },
  {
   "cell_type": "code",
   "execution_count": 104,
   "id": "57fc0477",
   "metadata": {},
   "outputs": [
    {
     "data": {
      "text/plain": [
       "Text(0.5, 1.0, 'Optimization of the rastrigin function')"
      ]
     },
     "execution_count": 104,
     "metadata": {},
     "output_type": "execute_result"
    },
    {
     "data": {
      "image/png": "[encoded data removed]",
      "text/plain": [
       "<Figure size 640x480 with 1 Axes>"
      ]
     },
     "metadata": {},
     "output_type": "display_data"
    }
   ],
   "source": [
    "plt.plot(sgd_losses, label=\"SGD\")\n",
    "plt.plot(sgd_m_losses, label='SGD+m')\n",
    "plt.plot(ada_losses, label='Adagrad')\n",
    "plt.plot(adam_losses, label='Adam')\n",
    "plt.legend()\n",
    "plt.xlabel(\"Iteration\")\n",
    "plt.ylabel(\"rastrigin(x)\")\n",
    "plt.title(\"Optimization of the rastrigin function\")"
   ]
  },
  {
   "cell_type": "markdown",
   "id": "9a5caeda",
   "metadata": {},
   "source": [
    "# Iris SVM"
   ]
  },
  {
   "cell_type": "code",
   "execution_count": null,
   "id": "f544cd52",
   "metadata": {},
   "outputs": [],
   "source": []
  },
  {
   "cell_type": "code",
   "execution_count": 76,
   "id": "fcd6e866",
   "metadata": {},
   "outputs": [],
   "source": [
    "def hinge_loss(y_pred, y_true):\n",
    "    # YOUR CODE HERE\n",
    "    yz = y_pred * y_true\n",
    "    return torch.max(torch.zeros(yz.size()),1 - yz).mean()\n",
    "\n",
    "def svm(x, w, b):\n",
    "    h = (w*x).sum(1) + b\n",
    "    return h"
   ]
  },
  {
   "cell_type": "code",
   "execution_count": 77,
   "id": "a5e3dc0c",
   "metadata": {},
   "outputs": [
    {
     "name": "stdout",
     "output_type": "stream",
     "text": [
      "torch.Size([75, 4]) torch.Size([75]) torch.Size([25, 4]) torch.Size([25])\n"
     ]
    }
   ],
   "source": [
    "import pandas as pd\n",
    "\n",
    "df = pd.read_csv('https://archive.ics.uci.edu/ml/machine-learning-databases/iris/iris.data', header=None)\n",
    "df = df.sample(frac=1, random_state=0)\n",
    "df = df[df[4].isin(['Iris-virginica', 'Iris-versicolor'])]\n",
    "mapping = {k: v for v, k in enumerate(df[4].unique())}\n",
    "df[5] = (2 * df[4].map(mapping)) - 1\n",
    "alldata = torch.tensor(df.iloc[:, [0,1,2,3]].values, dtype=torch.float)\n",
    "alldata = (alldata - alldata.mean(dim=0)) / alldata.var(dim=0)\n",
    "\n",
    "targets_tr = torch.tensor(df.iloc[:75, 5].values, dtype=torch.long)\n",
    "targets_va = torch.tensor(df.iloc[75:, 5].values, dtype=torch.long)\n",
    "data_tr = alldata[:75]\n",
    "data_va = alldata[75:]\n",
    "\n",
    "print(data_tr.shape, targets_tr.shape, data_va.shape, targets_va.shape)"
   ]
  },
  {
   "cell_type": "code",
   "execution_count": 78,
   "id": "21c819ca",
   "metadata": {},
   "outputs": [],
   "source": [
    "def train(x, y, opt='sgd', lr=0.001, epochs=100, batch_size=25, weight_decay=0.0001):\n",
    "    dataset = data.TensorDataset(x,y) # create your datset\n",
    "    dataloader = data.DataLoader(dataset, batch_size=batch_size, shuffle=True) # create your dataloader\n",
    "    \n",
    "    if opt == 'sgd':\n",
    "        w = torch.randn(1, x.shape[1], requires_grad=True)\n",
    "        b = torch.randn(1, requires_grad=True)\n",
    "        opt = optim.SGD([w,b], lr=lr, weight_decay=weight_decay)\n",
    "        \n",
    "    if opt == 'adam':\n",
    "        w = torch.randn(1, x.shape[1], requires_grad=True)\n",
    "        b = torch.randn(1, requires_grad=True)\n",
    "        opt = optim.Adam([w,b], lr=lr, weight_decay=weight_decay)\n",
    "    \n",
    "    \n",
    "    for epoch in range(epochs):\n",
    "        for batch in dataloader:\n",
    "            opt.zero_grad()\n",
    "            loss = hinge_loss(svm(batch[0], w, b), batch[1])\n",
    "            loss.backward()\n",
    "            opt.step()\n",
    "    return (w, b)"
   ]
  },
  {
   "cell_type": "code",
   "execution_count": 81,
   "id": "84a0c1b6",
   "metadata": {},
   "outputs": [],
   "source": [
    "def compute_loss(x, y, weights):\n",
    "    return hinge_loss(svm(x, weights[0], weights[1]), y)"
   ]
  },
  {
   "cell_type": "code",
   "execution_count": 82,
   "id": "d78a21ec",
   "metadata": {},
   "outputs": [],
   "source": [
    "tests = [('sgd', 0.01), ('sgd', 0.001), ('sgd', 0.0001), ('adam', 0.01), ('adam', 0.001), ('adam', 0.0001)]"
   ]
  },
  {
   "cell_type": "code",
   "execution_count": 99,
   "id": "493754a7",
   "metadata": {},
   "outputs": [],
   "source": [
    "SAMPLE_SIZE = 100"
   ]
  },
  {
   "cell_type": "code",
   "execution_count": 100,
   "id": "798a0d2f",
   "metadata": {},
   "outputs": [
    {
     "name": "stdout",
     "output_type": "stream",
     "text": [
      "test:  0\n",
      "test:  1\n",
      "test:  2\n",
      "test:  3\n",
      "test:  4\n",
      "test:  5\n"
     ]
    }
   ],
   "source": [
    "all_stats = {}\n",
    "\n",
    "for i, test in enumerate(tests):\n",
    "    losses = []\n",
    "    print(\"test: \", i)\n",
    "    for i in range(SAMPLE_SIZE):\n",
    "        weights = train(data_tr, targets_tr, opt=test[0], lr=test[1])\n",
    "        losses.append(compute_loss(data_va, targets_va, weights=weights).detach().numpy())\n",
    "    all_stats[test[0] + '_' + str(test[1])] = {'loss_mean':np.mean(losses), \"loss_var\":np.var(losses)}"
   ]
  },
  {
   "cell_type": "code",
   "execution_count": 101,
   "id": "6b0a9c19",
   "metadata": {},
   "outputs": [
    {
     "data": {
      "text/plain": [
       "{'sgd_0.01': {'loss_mean': 0.19376828, 'loss_var': 0.0048933793},\n",
       " 'sgd_0.001': {'loss_mean': 1.4218146, 'loss_var': 1.7222829},\n",
       " 'sgd_0.0001': {'loss_mean': 2.1040468, 'loss_var': 3.5632577},\n",
       " 'adam_0.01': {'loss_mean': 0.20851535, 'loss_var': 0.013904975},\n",
       " 'adam_0.001': {'loss_mean': 1.3152893, 'loss_var': 1.8074626},\n",
       " 'adam_0.0001': {'loss_mean': 2.232422, 'loss_var': 3.996035}}"
      ]
     },
     "execution_count": 101,
     "metadata": {},
     "output_type": "execute_result"
    }
   ],
   "source": [
    "all_stats"
   ]
  },
  {
   "cell_type": "code",
   "execution_count": 102,
   "id": "73cd6fb0",
   "metadata": {},
   "outputs": [
    {
     "name": "stderr",
     "output_type": "stream",
     "text": [
      "/var/folders/dn/mf4hn04x4p19pvpk6_8z0_vc0000gn/T/ipykernel_93831/3815048713.py:2: FutureWarning: The frame.append method is deprecated and will be removed from pandas in a future version. Use pandas.concat instead.\n",
      "  df = df.append(pd.DataFrame(all_stats['sgd_0.001'], index=['sgd_0.001']))\n",
      "/var/folders/dn/mf4hn04x4p19pvpk6_8z0_vc0000gn/T/ipykernel_93831/3815048713.py:3: FutureWarning: The frame.append method is deprecated and will be removed from pandas in a future version. Use pandas.concat instead.\n",
      "  df = df.append(pd.DataFrame(all_stats['sgd_0.0001'], index=['sgd_0.0001']))\n",
      "/var/folders/dn/mf4hn04x4p19pvpk6_8z0_vc0000gn/T/ipykernel_93831/3815048713.py:4: FutureWarning: The frame.append method is deprecated and will be removed from pandas in a future version. Use pandas.concat instead.\n",
      "  df = df.append(pd.DataFrame(all_stats['adam_0.01'], index=['adam_0.01']))\n",
      "/var/folders/dn/mf4hn04x4p19pvpk6_8z0_vc0000gn/T/ipykernel_93831/3815048713.py:5: FutureWarning: The frame.append method is deprecated and will be removed from pandas in a future version. Use pandas.concat instead.\n",
      "  df = df.append(pd.DataFrame(all_stats['adam_0.001'], index=['adam_0.001']))\n",
      "/var/folders/dn/mf4hn04x4p19pvpk6_8z0_vc0000gn/T/ipykernel_93831/3815048713.py:6: FutureWarning: The frame.append method is deprecated and will be removed from pandas in a future version. Use pandas.concat instead.\n",
      "  df = df.append(pd.DataFrame(all_stats['adam_0.0001'], index=['adam_0.0001']))\n"
     ]
    }
   ],
   "source": [
    "df = pd.DataFrame(all_stats['sgd_0.01'], index=['sgd_0.01'])\n",
    "df = df.append(pd.DataFrame(all_stats['sgd_0.001'], index=['sgd_0.001']))\n",
    "df = df.append(pd.DataFrame(all_stats['sgd_0.0001'], index=['sgd_0.0001']))\n",
    "df = df.append(pd.DataFrame(all_stats['adam_0.01'], index=['adam_0.01']))\n",
    "df = df.append(pd.DataFrame(all_stats['adam_0.001'], index=['adam_0.001']))\n",
    "df = df.append(pd.DataFrame(all_stats['adam_0.0001'], index=['adam_0.0001']))"
   ]
  },
  {
   "cell_type": "code",
   "execution_count": 103,
   "id": "502b5656",
   "metadata": {},
   "outputs": [
    {
     "data": {
      "text/html": [
       "<div>\n",
       "<style scoped>\n",
       "    .dataframe tbody tr th:only-of-type {\n",
       "        vertical-align: middle;\n",
       "    }\n",
       "\n",
       "    .dataframe tbody tr th {\n",
       "        vertical-align: top;\n",
       "    }\n",
       "\n",
       "    .dataframe thead th {\n",
       "        text-align: right;\n",
       "    }\n",
       "</style>\n",
       "<table border=\"1\" class=\"dataframe\">\n",
       "  <thead>\n",
       "    <tr style=\"text-align: right;\">\n",
       "      <th></th>\n",
       "      <th>loss_mean</th>\n",
       "      <th>loss_var</th>\n",
       "    </tr>\n",
       "  </thead>\n",
       "  <tbody>\n",
       "    <tr>\n",
       "      <th>sgd_0.01</th>\n",
       "      <td>0.193768</td>\n",
       "      <td>0.004893</td>\n",
       "    </tr>\n",
       "    <tr>\n",
       "      <th>sgd_0.001</th>\n",
       "      <td>1.421815</td>\n",
       "      <td>1.722283</td>\n",
       "    </tr>\n",
       "    <tr>\n",
       "      <th>sgd_0.0001</th>\n",
       "      <td>2.104047</td>\n",
       "      <td>3.563258</td>\n",
       "    </tr>\n",
       "    <tr>\n",
       "      <th>adam_0.01</th>\n",
       "      <td>0.208515</td>\n",
       "      <td>0.013905</td>\n",
       "    </tr>\n",
       "    <tr>\n",
       "      <th>adam_0.001</th>\n",
       "      <td>1.315289</td>\n",
       "      <td>1.807463</td>\n",
       "    </tr>\n",
       "    <tr>\n",
       "      <th>adam_0.0001</th>\n",
       "      <td>2.232422</td>\n",
       "      <td>3.996035</td>\n",
       "    </tr>\n",
       "  </tbody>\n",
       "</table>\n",
       "</div>"
      ],
      "text/plain": [
       "             loss_mean  loss_var\n",
       "sgd_0.01      0.193768  0.004893\n",
       "sgd_0.001     1.421815  1.722283\n",
       "sgd_0.0001    2.104047  3.563258\n",
       "adam_0.01     0.208515  0.013905\n",
       "adam_0.001    1.315289  1.807463\n",
       "adam_0.0001   2.232422  3.996035"
      ]
     },
     "execution_count": 103,
     "metadata": {},
     "output_type": "execute_result"
    }
   ],
   "source": [
    "df"
   ]
  },
  {
   "cell_type": "code",
   "execution_count": null,
   "id": "c89e5c57",
   "metadata": {},
   "outputs": [],
   "source": []
  }
 ],
 "metadata": {
  "kernelspec": {
   "display_name": "Python 3 (ipykernel)",
   "language": "python",
   "name": "python3"
  },
  "language_info": {
   "codemirror_mode": {
    "name": "ipython",
    "version": 3
   },
   "file_extension": ".py",
   "mimetype": "text/x-python",
   "name": "python",
   "nbconvert_exporter": "python",
   "pygments_lexer": "ipython3",
   "version": "3.8.13"
  }
 },
 "nbformat": 4,
 "nbformat_minor": 5
}
