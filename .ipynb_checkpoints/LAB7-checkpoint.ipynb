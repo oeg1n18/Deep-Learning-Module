{
 "cells": [
  {
   "cell_type": "code",
   "execution_count": 4,
   "id": "4db2029c",
   "metadata": {},
   "outputs": [],
   "source": [
    "from torchvision.datasets.utils import download_url\n",
    "from torch.utils.data import Dataset, DataLoader, random_split\n",
    "from torch.nn.utils.rnn import pad_sequence\n",
    "from torch import nn\n",
    "from torch.nn import functional as F\n",
    "from torch import optim\n",
    "from tqdm.autonotebook import tqdm\n",
    "from textwrap import wrap\n",
    "import random\n",
    "import sys\n",
    "import io\n",
    "import random\n",
    "import numpy as np\n",
    "import torch\n",
    "\n",
    "torch.manual_seed(0)\n",
    "\n",
    "\n",
    "device = \"cpu\"\n",
    "if torch.backends.mps.is_available():\n",
    "    device = \"mps\"\n",
    "if torch.cuda.is_available():\n",
    "    device = \"cuda\"\n",
    "\n",
    "device=\"cpu\""
   ]
  },
  {
   "cell_type": "code",
   "execution_count": 5,
   "id": "747e1a5e",
   "metadata": {},
   "outputs": [
    {
     "name": "stdout",
     "output_type": "stream",
     "text": [
      "Using downloaded and verified file: ./dataset.txt\n"
     ]
    }
   ],
   "source": [
    "class CodeDataset(Dataset):\n",
    "    def __init__(self):\n",
    "        download_url('https://github.com/ecs-vlc/COMP6248/raw/master/exercises/lab7/dataset.txt', '.', 'dataset.txt', None)\n",
    "        with io.open('dataset.txt', 'r') as f:\n",
    "            self.data = f.readlines()\n",
    "\n",
    "        self.PAD='_'\n",
    "        self.SOS='^'\n",
    "        self.EOS='$'\n",
    "        self.PAD_IDX=0\n",
    "\n",
    "        # construct the vocabularies to numericalise the data\n",
    "        self.alphabet = \"*\".join(self.PAD+self.SOS+self.EOS+\"abcdefghijklmnopqrstuvwxyz \").split('*')\n",
    "\n",
    "        self.alphabet_indices = dict((c, i) for i, c in enumerate(self.alphabet))\n",
    "        self.indices_alphabet = dict((i, c) for i, c in enumerate(self.alphabet))\n",
    "\n",
    "        self.morsebet = self.PAD+self.SOS+self.EOS+'.- /'\n",
    "        self.morse_indices = dict((c, i) for i, c in enumerate(self.morsebet))\n",
    "        self.indices_morse = dict((i, c) for i, c in enumerate(self.morsebet))\n",
    "\n",
    "    def encode_alpha(self, inp):\n",
    "        x = torch.zeros(len(inp), dtype=torch.long)\n",
    "        for t, char in enumerate(inp):\n",
    "            x[t] = self.alphabet_indices[char]\n",
    "\n",
    "        return x\n",
    "\n",
    "    def decode_alpha(self, ten, skip_tok=False):\n",
    "        s = ''\n",
    "        ten = ten.view(-1)\n",
    "        for v in ten.view(-1):\n",
    "            if not skip_tok:\n",
    "                s += self.indices_alphabet[v.item()]\n",
    "            elif v>2:\n",
    "                s += self.indices_alphabet[v.item()]\n",
    "        return s\n",
    "\n",
    "    def encode_morse(self, inp):\n",
    "        x = torch.zeros(len(inp), dtype=torch.long)\n",
    "        for t, char in enumerate(inp):\n",
    "            x[t] = self.morse_indices[char]\n",
    "\n",
    "        return x\n",
    "\n",
    "    def decode_morse(self, ten):\n",
    "        s = ''\n",
    "        for v in ten:\n",
    "          s += self.indices_morse[v]\n",
    "        return s\n",
    "\n",
    "    def __len__(self):\n",
    "        return len(self.data)\n",
    "\n",
    "    def __getitem__(self, i):\n",
    "        inp, out = self.data[i].strip().split('|')\n",
    "        x = self.encode_morse(inp)\n",
    "        y = self.encode_alpha(out[::-1])\n",
    "        return x, y\n",
    "\n",
    "\n",
    "# This will be used to automatically pad all batch items to the same length\n",
    "def pad_collate(batch): \n",
    "    data = [item[0] for item in batch]\n",
    "    data = pad_sequence(data)\n",
    "    targets = [item[1] for item in batch]\n",
    "    targets = pad_sequence(targets)\n",
    "    return [data, targets]\n",
    "\n",
    "# Load the data and split randomly into training and val subsets\n",
    "ds = CodeDataset()\n",
    "tr, va = random_split(ds, [len(ds) - len(ds)//3, len(ds)//3])\n",
    "trainloader = DataLoader(tr, batch_size=1024, shuffle=True, collate_fn=pad_collate)\n",
    "valloader = DataLoader(va, batch_size=1024, shuffle=False, collate_fn=pad_collate)"
   ]
  },
  {
   "cell_type": "code",
   "execution_count": 6,
   "id": "9a74b91d",
   "metadata": {},
   "outputs": [],
   "source": [
    "class Encoder(nn.Module):\n",
    "    def __init__(self, input_dim, emb_dim, hid_dim):\n",
    "        super().__init__()\n",
    "        \n",
    "        self.hid_dim = hid_dim\n",
    "        self.embedding = nn.Embedding(input_dim, emb_dim)\n",
    "        self.rnn = nn.LSTM(emb_dim, hid_dim)\n",
    "        \n",
    "    def forward(self, src):\n",
    "        x = self.embedding(src)\n",
    "        output, (hn, cn) = self.rnn(x)\n",
    "        return (hn, cn)\n",
    "\n",
    "\n",
    "class Decoder(nn.Module):\n",
    "    def __init__(self, output_dim, emb_dim, hid_dim):\n",
    "        super().__init__()\n",
    "        \n",
    "        self.output_dim = output_dim\n",
    "        self.hid_dim = hid_dim\n",
    "        self.embedding = nn.Embedding(output_dim, emb_dim)\n",
    "        self.rnn = nn.LSTM(emb_dim, hid_dim)\n",
    "        self.fc_out = nn.Linear(hid_dim, output_dim)\n",
    "        \n",
    "    def forward(self, input, hidden, cell):\n",
    "        input = input.unsqueeze(0)\n",
    "        embedded = self.embedding(input)\n",
    "        output, (hidden, cell) = self.rnn(embedded, (hidden, cell))        \n",
    "        prediction = self.fc_out(output.squeeze(0))\n",
    "        return prediction, hidden, cell\n",
    "\n",
    "\n",
    "class Seq2Seq(nn.Module):\n",
    "    def __init__(self, encoder, decoder):\n",
    "        super().__init__()\n",
    "        \n",
    "        self.encoder = encoder\n",
    "        self.decoder = decoder\n",
    "        \n",
    "    def forward(self, src, trg=None, teacher_forcing_ratio = 0.5, maxlen=5, padding_idx=0):\n",
    "        batch_size = src.shape[1]\n",
    "        trg_len = trg.shape[0] if trg is not None else maxlen\n",
    "        trg_vocab_size = self.decoder.output_dim\n",
    "\n",
    "        outputs = torch.zeros(trg_len, batch_size, trg_vocab_size).to(src.device)\n",
    "        hidden, cell = self.encoder(src)\n",
    "\n",
    "        input = torch.ones(batch_size, dtype=torch.long, device=src.device) * padding_idx\n",
    "        for t in range(1, trg_len):\n",
    "            output, hidden, cell = self.decoder(input, hidden, cell)\n",
    "            outputs[t] = output\n",
    "            \n",
    "            teacher_force = random.random() < teacher_forcing_ratio\n",
    "            top1 = output.argmax(1) \n",
    "            input = trg[t] if teacher_force and trg is not None else top1\n",
    "        \n",
    "        return outputs\n",
    "\n",
    "\n",
    "INPUT_DIM = len(ds.morsebet)\n",
    "OUTPUT_DIM = len(ds.alphabet)\n",
    "ENC_EMB_DIM = 128\n",
    "DEC_EMB_DIM = 128\n",
    "HID_DIM = 256\n",
    "\n",
    "enc = Encoder(INPUT_DIM, ENC_EMB_DIM, HID_DIM).to(device)\n",
    "dec = Decoder(OUTPUT_DIM, DEC_EMB_DIM, HID_DIM).to(device)\n",
    "model = Seq2Seq(enc, dec).to(device) #.cuda()"
   ]
  },
  {
   "cell_type": "code",
   "execution_count": 7,
   "id": "3697065b",
   "metadata": {},
   "outputs": [
    {
     "data": {
      "application/vnd.jupyter.widget-view+json": {
       "model_id": "2dd4a2884e6b4fcb8344319c835d267e",
       "version_major": 2,
       "version_minor": 0
      },
      "text/plain": [
       "train:   0%|          | 0/163 [00:00<?, ?it/s]"
      ]
     },
     "metadata": {},
     "output_type": "display_data"
    },
    {
     "data": {
      "application/vnd.jupyter.widget-view+json": {
       "model_id": "7f97fe14a1c247c69975e630a6d2116c",
       "version_major": 2,
       "version_minor": 0
      },
      "text/plain": [
       "val:   0%|          | 0/82 [00:00<?, ?it/s]"
      ]
     },
     "metadata": {},
     "output_type": "display_data"
    },
    {
     "data": {
      "application/vnd.jupyter.widget-view+json": {
       "model_id": "9e0a8fd1cfb94db590d6eba2fd3ce264",
       "version_major": 2,
       "version_minor": 0
      },
      "text/plain": [
       "train:   0%|          | 0/163 [00:00<?, ?it/s]"
      ]
     },
     "metadata": {},
     "output_type": "display_data"
    },
    {
     "data": {
      "application/vnd.jupyter.widget-view+json": {
       "model_id": "833fbf23377944588c8e14014d112513",
       "version_major": 2,
       "version_minor": 0
      },
      "text/plain": [
       "val:   0%|          | 0/82 [00:00<?, ?it/s]"
      ]
     },
     "metadata": {},
     "output_type": "display_data"
    },
    {
     "data": {
      "application/vnd.jupyter.widget-view+json": {
       "model_id": "731d9f9c071f4ca181ff359f0c6b504e",
       "version_major": 2,
       "version_minor": 0
      },
      "text/plain": [
       "train:   0%|          | 0/163 [00:00<?, ?it/s]"
      ]
     },
     "metadata": {},
     "output_type": "display_data"
    },
    {
     "data": {
      "application/vnd.jupyter.widget-view+json": {
       "model_id": "052392a53ee243848f2f6e63ce189d27",
       "version_major": 2,
       "version_minor": 0
      },
      "text/plain": [
       "val:   0%|          | 0/82 [00:00<?, ?it/s]"
      ]
     },
     "metadata": {},
     "output_type": "display_data"
    },
    {
     "data": {
      "application/vnd.jupyter.widget-view+json": {
       "model_id": "de61448b2ac54ab1b3e98b3eab71e6da",
       "version_major": 2,
       "version_minor": 0
      },
      "text/plain": [
       "train:   0%|          | 0/163 [00:00<?, ?it/s]"
      ]
     },
     "metadata": {},
     "output_type": "display_data"
    },
    {
     "data": {
      "application/vnd.jupyter.widget-view+json": {
       "model_id": "cb32415be6b5449a826549b4fc809453",
       "version_major": 2,
       "version_minor": 0
      },
      "text/plain": [
       "val:   0%|          | 0/82 [00:00<?, ?it/s]"
      ]
     },
     "metadata": {},
     "output_type": "display_data"
    },
    {
     "data": {
      "application/vnd.jupyter.widget-view+json": {
       "model_id": "4645a2ac49ef47f69b9c1690f90afc0a",
       "version_major": 2,
       "version_minor": 0
      },
      "text/plain": [
       "train:   0%|          | 0/163 [00:00<?, ?it/s]"
      ]
     },
     "metadata": {},
     "output_type": "display_data"
    },
    {
     "data": {
      "application/vnd.jupyter.widget-view+json": {
       "model_id": "d95da281ec5145d792c8e11332e8e38c",
       "version_major": 2,
       "version_minor": 0
      },
      "text/plain": [
       "val:   0%|          | 0/82 [00:00<?, ?it/s]"
      ]
     },
     "metadata": {},
     "output_type": "display_data"
    },
    {
     "data": {
      "application/vnd.jupyter.widget-view+json": {
       "model_id": "a16e4628eb71426d9d712bd5072b2ebb",
       "version_major": 2,
       "version_minor": 0
      },
      "text/plain": [
       "train:   0%|          | 0/163 [00:00<?, ?it/s]"
      ]
     },
     "metadata": {},
     "output_type": "display_data"
    },
    {
     "data": {
      "application/vnd.jupyter.widget-view+json": {
       "model_id": "d977c49a96ef4c8da30df4aa588990d5",
       "version_major": 2,
       "version_minor": 0
      },
      "text/plain": [
       "val:   0%|          | 0/82 [00:00<?, ?it/s]"
      ]
     },
     "metadata": {},
     "output_type": "display_data"
    },
    {
     "data": {
      "application/vnd.jupyter.widget-view+json": {
       "model_id": "1dc14f9a08964661aa35210256530cd8",
       "version_major": 2,
       "version_minor": 0
      },
      "text/plain": [
       "train:   0%|          | 0/163 [00:00<?, ?it/s]"
      ]
     },
     "metadata": {},
     "output_type": "display_data"
    },
    {
     "data": {
      "application/vnd.jupyter.widget-view+json": {
       "model_id": "8396bba9d67e496ba801eb44b151062e",
       "version_major": 2,
       "version_minor": 0
      },
      "text/plain": [
       "val:   0%|          | 0/82 [00:00<?, ?it/s]"
      ]
     },
     "metadata": {},
     "output_type": "display_data"
    },
    {
     "data": {
      "application/vnd.jupyter.widget-view+json": {
       "model_id": "cd57ee9a669345ff95d23315158ea4ea",
       "version_major": 2,
       "version_minor": 0
      },
      "text/plain": [
       "train:   0%|          | 0/163 [00:00<?, ?it/s]"
      ]
     },
     "metadata": {},
     "output_type": "display_data"
    },
    {
     "data": {
      "application/vnd.jupyter.widget-view+json": {
       "model_id": "bac3e9750e714e05b3207d064e64c760",
       "version_major": 2,
       "version_minor": 0
      },
      "text/plain": [
       "val:   0%|          | 0/82 [00:00<?, ?it/s]"
      ]
     },
     "metadata": {},
     "output_type": "display_data"
    },
    {
     "data": {
      "application/vnd.jupyter.widget-view+json": {
       "model_id": "ba34f7c4ff0743c0a9b65d9a544dcde7",
       "version_major": 2,
       "version_minor": 0
      },
      "text/plain": [
       "train:   0%|          | 0/163 [00:00<?, ?it/s]"
      ]
     },
     "metadata": {},
     "output_type": "display_data"
    },
    {
     "data": {
      "application/vnd.jupyter.widget-view+json": {
       "model_id": "7a39c596637d41d6a82dca64e256c40c",
       "version_major": 2,
       "version_minor": 0
      },
      "text/plain": [
       "val:   0%|          | 0/82 [00:00<?, ?it/s]"
      ]
     },
     "metadata": {},
     "output_type": "display_data"
    },
    {
     "data": {
      "application/vnd.jupyter.widget-view+json": {
       "model_id": "058c675d772144ae9db94fe8c98ba03c",
       "version_major": 2,
       "version_minor": 0
      },
      "text/plain": [
       "train:   0%|          | 0/163 [00:00<?, ?it/s]"
      ]
     },
     "metadata": {},
     "output_type": "display_data"
    },
    {
     "data": {
      "application/vnd.jupyter.widget-view+json": {
       "model_id": "bf7cd5a56ca84a20a403c6623960ee20",
       "version_major": 2,
       "version_minor": 0
      },
      "text/plain": [
       "val:   0%|          | 0/82 [00:00<?, ?it/s]"
      ]
     },
     "metadata": {},
     "output_type": "display_data"
    }
   ],
   "source": [
    "crit = nn.CrossEntropyLoss(ignore_index=ds.PAD_IDX)\n",
    "opt = optim.Adam(model.parameters())\n",
    "train_losses = []\n",
    "val_losses = []\n",
    "\n",
    "for e in range(10):\n",
    "    model.train()\n",
    "\n",
    "    with tqdm(total=len(trainloader), desc='train') as t:\n",
    "        epoch_loss = 0\n",
    "        for i, (x, y) in enumerate(trainloader):\n",
    "            x = x.to(device) #.cuda()\n",
    "            y = y.to(device) #.cuda()\n",
    "\n",
    "            opt.zero_grad()\n",
    "            pred = model(x, y, padding_idx=ds.PAD_IDX)\n",
    "\n",
    "            pred_dim = pred.shape[-1]\n",
    "            pred = pred[1:].view(-1, pred_dim)\n",
    "            y = y[1:].view(-1)\n",
    "\n",
    "            loss = crit(pred, y)\n",
    "            loss.backward()\n",
    "            opt.step()\n",
    "\n",
    "            epoch_loss = (epoch_loss*i + loss.item()) / (i+1)\n",
    "\n",
    "            t.set_postfix(loss='{:05.3f}'.format(epoch_loss))\n",
    "            t.update()\n",
    "        train_losses.append(epoch_loss)\n",
    "\n",
    "\n",
    "    model.eval()\n",
    "    with tqdm(total=len(valloader), desc='val') as t:\n",
    "        with torch.no_grad():\n",
    "            epoch_loss = 0\n",
    "            for i, (x, y) in enumerate(valloader):\n",
    "                x = x.to(device) #.cuda()\n",
    "                y = y.to(device) #.cuda()\n",
    "\n",
    "                pred = model(x, y, teacher_forcing_ratio=0, padding_idx=ds.PAD_IDX)\n",
    "\n",
    "                pred_dim = pred.shape[-1]\n",
    "                pred = pred[1:].view(-1, pred_dim)\n",
    "                y = y[1:].view(-1)\n",
    "\n",
    "                loss = crit(pred, y)\n",
    "                epoch_loss = (epoch_loss*i + loss.item()) / (i+1)\n",
    "\n",
    "                t.set_postfix(loss='{:05.3f}'.format(epoch_loss))\n",
    "                t.update()\n",
    "            val_losses.append(epoch_loss)"
   ]
  },
  {
   "cell_type": "code",
   "execution_count": 178,
   "id": "6f425d59",
   "metadata": {},
   "outputs": [
    {
     "data": {
      "text/plain": [
       "<matplotlib.legend.Legend at 0x2bdd38bb0>"
      ]
     },
     "execution_count": 178,
     "metadata": {},
     "output_type": "execute_result"
    },
    {
     "data": {
      "image/png": "[encoded data removed]",
      "text/plain": [
       "<Figure size 640x480 with 1 Axes>"
      ]
     },
     "metadata": {},
     "output_type": "display_data"
    }
   ],
   "source": [
    "import matplotlib.pyplot as plt\n",
    "\n",
    "\n",
    "plt.plot(train_losses, label=\"train\", marker='x')\n",
    "plt.plot(val_losses, label=\"val\", marker=\"x\")\n",
    "plt.title(\"Sequence to Sequence Training\")\n",
    "plt.xlabel(\"Epochs\")\n",
    "plt.ylabel(\"Cross-Entropy Loss\")\n",
    "plt.legend()"
   ]
  },
  {
   "cell_type": "code",
   "execution_count": null,
   "id": "7fef19ad",
   "metadata": {},
   "outputs": [],
   "source": []
  },
  {
   "cell_type": "code",
   "execution_count": null,
   "id": "8b67a62a",
   "metadata": {},
   "outputs": [],
   "source": []
  },
  {
   "cell_type": "markdown",
   "id": "54be8369",
   "metadata": {},
   "source": [
    "# Second Part"
   ]
  },
  {
   "cell_type": "code",
   "execution_count": 201,
   "id": "cbf8893b",
   "metadata": {},
   "outputs": [],
   "source": [
    "class RawCodeDataset(Dataset):\n",
    "    def __init__(self):\n",
    "        download_url('https://github.com/ecs-vlc/COMP6248/raw/master/exercises/lab7/dataset.txt', '.', 'dataset.txt', None)\n",
    "        with io.open('dataset.txt', 'r') as f:\n",
    "            self.data = f.readlines()\n",
    "\n",
    "        self.PAD='_'\n",
    "        self.SOS='^'\n",
    "        self.EOS='$'\n",
    "        self.PAD_IDX=0\n",
    "\n",
    "        # construct the vocabularies to numericalise the data\n",
    "        self.alphabet = \"*\".join(self.PAD+self.SOS+self.EOS+\"abcdefghijklmnopqrstuvwxyz \").split('*')\n",
    "\n",
    "        self.alphabet_indices = dict((c, i) for i, c in enumerate(self.alphabet))\n",
    "        self.indices_alphabet = dict((i, c) for i, c in enumerate(self.alphabet))\n",
    "\n",
    "        self.morsebet = self.PAD+self.SOS+self.EOS+'.- /'\n",
    "        self.morse_indices = dict((c, i) for i, c in enumerate(self.morsebet))\n",
    "        self.indices_morse = dict((i, c) for i, c in enumerate(self.morsebet))\n",
    "\n",
    "    def encode_alpha(self, inp):\n",
    "        x = torch.zeros(len(inp), dtype=torch.long)\n",
    "        for t, char in enumerate(inp):\n",
    "            x[t] = self.alphabet_indices[char]\n",
    "\n",
    "        return x\n",
    "\n",
    "    def decode_alpha(self, ten, skip_tok=False):\n",
    "        s = ''\n",
    "        ten = ten.view(-1)\n",
    "        for v in ten.view(-1):\n",
    "            if not skip_tok:\n",
    "                s += self.indices_alphabet[v.item()]\n",
    "            elif v>2:\n",
    "                s += self.indices_alphabet[v.item()]\n",
    "        return s\n",
    "\n",
    "    def encode_morse(self, inp):\n",
    "        x = torch.zeros(len(inp), dtype=torch.long)\n",
    "        for t, char in enumerate(inp):\n",
    "            x[t] = self.morse_indices[char]\n",
    "\n",
    "        return x\n",
    "\n",
    "    def decode_morse(self, ten):\n",
    "        s = ''\n",
    "        for v in ten:\n",
    "          s += self.indices_morse[v]\n",
    "        return s\n",
    "\n",
    "    def __len__(self):\n",
    "        return len(self.data)\n",
    "\n",
    "    def __getitem__(self, i):\n",
    "        inp, out = self.data[i].strip().split('|')\n",
    "        return inp, out"
   ]
  },
  {
   "cell_type": "code",
   "execution_count": 323,
   "id": "d6e84fb0",
   "metadata": {},
   "outputs": [
    {
     "name": "stdout",
     "output_type": "stream",
     "text": [
      "Using downloaded and verified file: ./dataset.txt\n"
     ]
    }
   ],
   "source": [
    "def decode(code):\n",
    "    out = ''\n",
    "    for chunk in code.split(' ') :\n",
    "        num = ds.encode_morse('^ ' + chunk + ' $').unsqueeze(1)\n",
    "        pred = model(num, maxlen=2)\n",
    "        pred = pred[1:].view(-1, pred_dim).argmax(-1)\n",
    "        out += ds.decode_alpha(pred.cpu())\n",
    "    return out        \n",
    "\n",
    "rds = RawCodeDataset()"
   ]
  },
  {
   "cell_type": "code",
   "execution_count": 324,
   "id": "dd77e189",
   "metadata": {},
   "outputs": [
    {
     "name": "stdout",
     "output_type": "stream",
     "text": [
      "Input:  -- -.-- / -. .- -- . / .. ... / --- .-.. .. ...- . .-. / --. .-. .- .. -. --. .\n",
      "Target Output:  my name is oliver grainge\n",
      "Output:  my name is oliver grainge\n"
     ]
    }
   ],
   "source": [
    "\n",
    "X = '-- -.-- / -. .- -- . / .. ... / --- .-.. .. ...- . .-. / --. .-. .- .. -. --. .'\n",
    "y = 'my name is oliver grainge'\n",
    "print(\"Input: \", X)\n",
    "print(\"Target Output: \", y)\n",
    "out = decode(X)\n",
    "print(\"Output: \", out)"
   ]
  },
  {
   "cell_type": "code",
   "execution_count": null,
   "id": "80684e8e",
   "metadata": {},
   "outputs": [],
   "source": [
    "\n"
   ]
  },
  {
   "cell_type": "code",
   "execution_count": 332,
   "id": "50bc5612",
   "metadata": {},
   "outputs": [
    {
     "name": "stdout",
     "output_type": "stream",
     "text": [
      "Using downloaded and verified file: ./dataset.txt\n"
     ]
    }
   ],
   "source": [
    "def decode(code):\n",
    "    out = ''\n",
    "    lengths = []\n",
    "    for chunk in code.split('/ ') :\n",
    "        lengths.append(len(chunk))\n",
    "        num = ds.encode_morse('^ ' + chunk + ' $').unsqueeze(1)\n",
    "        pred = model(num, maxlen=2)\n",
    "        pred = pred[1:].view(-1, pred_dim).argmax(-1)\n",
    "        out += ds.decode_alpha(pred.cpu())\n",
    "    return out, lengths        \n",
    "\n",
    "\n",
    "rds = RawCodeDataset()\n",
    "correct = 0\n",
    "total = 0\n",
    "batch = 0\n",
    "\n",
    "correct = {}\n",
    "entries = {}\n",
    "for x, y in rds:\n",
    "    x = x.replace('^ ', '').replace(' $', '') \n",
    "    y = y.replace('^', '').replace('$', '')\n",
    "    out, lengths = decode(x)\n",
    "\n",
    "    for i in range(len(out)):\n",
    "        if out[i] == y[i]:\n",
    "            try:\n",
    "                correct[str(lengths[i])] += 1\n",
    "            except: \n",
    "                correct[str(lengths[i])] = 1   \n",
    "        try: \n",
    "            entries[str(lengths[i])] += 1\n",
    "        except: \n",
    "            entries[str(lengths[i])] = 1\n",
    "\n",
    "    if batch == 20000: \n",
    "        break\n",
    "    batch += 1\n",
    "\n",
    "accuracies = np.zeros(100)\n",
    "for key in list(correct.keys()):\n",
    "    accuracies[int(key)] = correct[key]/entries[key]"
   ]
  },
  {
   "cell_type": "code",
   "execution_count": null,
   "id": "ec63b92e",
   "metadata": {},
   "outputs": [],
   "source": []
  },
  {
   "cell_type": "code",
   "execution_count": 333,
   "id": "424fc975",
   "metadata": {},
   "outputs": [],
   "source": [
    "labels = [str(num) for num in np.arange(31)]"
   ]
  },
  {
   "cell_type": "code",
   "execution_count": 335,
   "id": "9731a121",
   "metadata": {},
   "outputs": [
    {
     "data": {
      "image/png": "[encoded data removed]",
      "text/plain": [
       "<Figure size 640x480 with 1 Axes>"
      ]
     },
     "metadata": {},
     "output_type": "display_data"
    }
   ],
   "source": [
    "import matplotlib.pyplot as plt\n",
    "fig = plt.figure()\n",
    "ax = fig.add_axes([0,0,1,1])\n",
    "ax.bar(labels,accuracies[:len(labels)])\n",
    "ax.set_ylabel(\"Accuracy\", fontsize=\"15\")\n",
    "ax.set_title(\"Model accuracy with different chunk lengths\")\n",
    "ax.set_xlabel(\"Seuqence Length\", fontsize=\"15\")\n",
    "plt.show()"
   ]
  },
  {
   "cell_type": "code",
   "execution_count": 164,
   "id": "cd9f1b10",
   "metadata": {},
   "outputs": [
    {
     "data": {
      "text/plain": [
       "1022"
      ]
     },
     "execution_count": 164,
     "metadata": {},
     "output_type": "execute_result"
    }
   ],
   "source": []
  },
  {
   "cell_type": "code",
   "execution_count": null,
   "id": "6cd261fd",
   "metadata": {},
   "outputs": [],
   "source": []
  }
 ],
 "metadata": {
  "kernelspec": {
   "display_name": "Python 3 (ipykernel)",
   "language": "python",
   "name": "python3"
  },
  "language_info": {
   "codemirror_mode": {
    "name": "ipython",
    "version": 3
   },
   "file_extension": ".py",
   "mimetype": "text/x-python",
   "name": "python",
   "nbconvert_exporter": "python",
   "pygments_lexer": "ipython3",
   "version": "3.8.13"
  }
 },
 "nbformat": 4,
 "nbformat_minor": 5
}
